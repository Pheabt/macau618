{
 "cells": [
  {
   "cell_type": "code",
   "execution_count": 1,
   "metadata": {},
   "outputs": [],
   "source": [
    "import json\n",
    "import urllib\n",
    "import math\n",
    "import pandas as pd"
   ]
  },
  {
   "cell_type": "code",
   "execution_count": 2,
   "metadata": {},
   "outputs": [],
   "source": [
    "x_pi = 3.14159265358979324 * 3000.0 / 180.0\n",
    "pi = 3.1415926535897932384626  # π\n",
    "a = 6378245.0  # 长半轴\n",
    "ee = 0.00669342162296594323  # 偏心率平方"
   ]
  },
  {
   "cell_type": "code",
   "execution_count": 3,
   "metadata": {},
   "outputs": [],
   "source": [
    "def gcj02_to_wgs84(lng, lat):\n",
    "    \"\"\"\n",
    "    GCJ02(火星坐标系)转GPS84\n",
    "    :param lng:火星坐标系的经度\n",
    "    :param lat:火星坐标系纬度\n",
    "    :return:\n",
    "    \"\"\"\n",
    "\n",
    "    dlat = _transformlat(lng - 105.0, lat - 35.0)\n",
    "    dlng = _transformlng(lng - 105.0, lat - 35.0)\n",
    "    radlat = lat / 180.0 * pi\n",
    "    magic = math.sin(radlat)\n",
    "    magic = 1 - ee * magic * magic\n",
    "    sqrtmagic = math.sqrt(magic)\n",
    "    dlat = (dlat * 180.0) / ((a * (1 - ee)) / (magic * sqrtmagic) * pi)\n",
    "    dlng = (dlng * 180.0) / (a / sqrtmagic * math.cos(radlat) * pi)\n",
    "    mglat = lat + dlat\n",
    "    mglng = lng + dlng\n",
    "    return [lng * 2 - mglng, lat * 2 - mglat]\n"
   ]
  },
  {
   "cell_type": "code",
   "execution_count": 4,
   "metadata": {},
   "outputs": [],
   "source": [
    "def _transformlat(lng, lat):\n",
    "    ret = -100.0 + 2.0 * lng + 3.0 * lat + 0.2 * lat * lat + \\\n",
    "          0.1 * lng * lat + 0.2 * math.sqrt(math.fabs(lng))\n",
    "    ret += (20.0 * math.sin(6.0 * lng * pi) + 20.0 *\n",
    "            math.sin(2.0 * lng * pi)) * 2.0 / 3.0\n",
    "    ret += (20.0 * math.sin(lat * pi) + 40.0 *\n",
    "            math.sin(lat / 3.0 * pi)) * 2.0 / 3.0\n",
    "    ret += (160.0 * math.sin(lat / 12.0 * pi) + 320 *\n",
    "            math.sin(lat * pi / 30.0)) * 2.0 / 3.0\n",
    "    return ret"
   ]
  },
  {
   "cell_type": "code",
   "execution_count": 5,
   "metadata": {},
   "outputs": [],
   "source": [
    "def _transformlng(lng, lat):\n",
    "    ret = 300.0 + lng + 2.0 * lat + 0.1 * lng * lng + \\\n",
    "          0.1 * lng * lat + 0.1 * math.sqrt(math.fabs(lng))\n",
    "    ret += (20.0 * math.sin(6.0 * lng * pi) + 20.0 *\n",
    "            math.sin(2.0 * lng * pi)) * 2.0 / 3.0\n",
    "    ret += (20.0 * math.sin(lng * pi) + 40.0 *\n",
    "            math.sin(lng / 3.0 * pi)) * 2.0 / 3.0\n",
    "    ret += (150.0 * math.sin(lng / 12.0 * pi) + 300.0 *\n",
    "            math.sin(lng / 30.0 * pi)) * 2.0 / 3.0\n",
    "    return ret"
   ]
  },
  {
   "cell_type": "code",
   "execution_count": 6,
   "metadata": {},
   "outputs": [
    {
     "name": "stderr",
     "output_type": "stream",
     "text": [
      "C:\\Users\\KK\\AppData\\Local\\Temp\\ipykernel_16860\\812568526.py:8: SettingWithCopyWarning: \n",
      "A value is trying to be set on a copy of a slice from a DataFrame\n",
      "\n",
      "See the caveats in the documentation: https://pandas.pydata.org/pandas-docs/stable/user_guide/indexing.html#returning-a-view-versus-a-copy\n",
      "  df['lng_new'][i] = gcj02_to_wgs84(df['lng'][i], df['lat'][i])[0]\n",
      "C:\\Users\\KK\\AppData\\Local\\Temp\\ipykernel_16860\\812568526.py:9: SettingWithCopyWarning: \n",
      "A value is trying to be set on a copy of a slice from a DataFrame\n",
      "\n",
      "See the caveats in the documentation: https://pandas.pydata.org/pandas-docs/stable/user_guide/indexing.html#returning-a-view-versus-a-copy\n",
      "  df['lat_new'][i] = gcj02_to_wgs84(df['lng'][i], df['lat'][i])[1]\n"
     ]
    }
   ],
   "source": [
    "df=pd.read_excel('澳门新冠路线汇总471-500.xlsx')\n",
    "df['lng_new'] = 0.000000\n",
    "df['lat_new'] = 0.000000 \n",
    "\n",
    "df\n",
    "\n",
    "for i in range(0, len(df)):\n",
    "    df['lng_new'][i] = gcj02_to_wgs84(df['lng'][i], df['lat'][i])[0]\n",
    "    df['lat_new'][i] = gcj02_to_wgs84(df['lng'][i], df['lat'][i])[1]\n",
    "\n",
    "df.to_excel('1.xlsx')\n"
   ]
  }
 ],
 "metadata": {
  "kernelspec": {
   "display_name": "Python 3.8.13 ('geospatial')",
   "language": "python",
   "name": "python3"
  },
  "language_info": {
   "codemirror_mode": {
    "name": "ipython",
    "version": 3
   },
   "file_extension": ".py",
   "mimetype": "text/x-python",
   "name": "python",
   "nbconvert_exporter": "python",
   "pygments_lexer": "ipython3",
   "version": "3.8.13"
  },
  "orig_nbformat": 4,
  "vscode": {
   "interpreter": {
    "hash": "c25030d382b418294212f498e933994f857e7fa8ba41aaeae613af6bb9b78a98"
   }
  }
 },
 "nbformat": 4,
 "nbformat_minor": 2
}
