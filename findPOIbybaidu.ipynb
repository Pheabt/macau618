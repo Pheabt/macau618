{
 "cells": [
  {
   "cell_type": "code",
   "execution_count": 2,
   "id": "ba80f680",
   "metadata": {},
   "outputs": [],
   "source": [
    "import json\n",
    "from urllib.request import urlopen\n",
    "from urllib.parse import quote\n",
    "from urllib import parse\n",
    "import hashlib\n",
    "import requests\n",
    "import pandas as pd \n",
    "import csv"
   ]
  },
  {
   "cell_type": "code",
   "execution_count": 3,
   "id": "459a9d7d",
   "metadata": {},
   "outputs": [],
   "source": [
    "def getlocation(addtress):\n",
    "    \n",
    "    AK = '3YgHSDiA1yPibpFvPM61qukxB6l8TjAW'\n",
    "    SK = 'qKRQHUWuqIqMDpYmFBSmYt3f08KBtk9U'\n",
    "    queryStr = '/geocoding/v3/?address=%s&output=json&city=澳门特别行政区&ak=%s' % (addtress,AK)\n",
    "    # 对queryStr进行转码，safe内的保留字符不转换\n",
    "    encodedStr = parse.quote(queryStr, safe=\"/:=&?#+!$,;'@()*[]\")\n",
    "    # 在最后直接追加上yoursk\n",
    "    rawStr = encodedStr + SK\n",
    "    #计算sn\n",
    "    sn = (hashlib.md5(parse.quote_plus(rawStr).encode(\"utf8\")).hexdigest())\n",
    "    #由于URL里面含有中文，所以需要用parse.quote进行处理，然后返回最终可调用的url\n",
    "    url = parse.quote(\"http://api.map.baidu.com\"+queryStr+\"&sn=\"+sn, safe=\"/:=&?#+!$,;'@()*[]\")\n",
    "    res = requests.get(url)\n",
    "    temp = json.loads(res.text)\n",
    "\n",
    "    return temp\n"
   ]
  },
  {
   "cell_type": "code",
   "execution_count": 4,
   "id": "2e6100ad",
   "metadata": {},
   "outputs": [],
   "source": [
    "inpath = r'C:\\\\Users\\\\KK\\\\Desktop\\\\macau618\\\\area.xlsx'\n",
    "outpath = r'C:\\\\Users\\\\KK\\\\Desktop\\\\macau618\\\\location.xlsx'\n",
    "\n",
    "df = pd.read_excel(inpath)\n",
    "df['lng'] = 'collng'\n",
    "df['lat'] = 'collat'\n"
   ]
  },
  {
   "cell_type": "code",
   "execution_count": 5,
   "id": "d8835feb",
   "metadata": {},
   "outputs": [
    {
     "name": "stdout",
     "output_type": "stream",
     "text": [
      "澳门PADRE Modern Cuisine 餐廳\n"
     ]
    },
    {
     "name": "stderr",
     "output_type": "stream",
     "text": [
      "C:\\Users\\KK\\AppData\\Local\\Temp\\ipykernel_12032\\674020065.py:8: SettingWithCopyWarning: \n",
      "A value is trying to be set on a copy of a slice from a DataFrame\n",
      "\n",
      "See the caveats in the documentation: https://pandas.pydata.org/pandas-docs/stable/user_guide/indexing.html#returning-a-view-versus-a-copy\n",
      "  df['lng'][ind] = float(i[2])\n",
      "C:\\Users\\KK\\AppData\\Local\\Temp\\ipykernel_12032\\674020065.py:9: SettingWithCopyWarning: \n",
      "A value is trying to be set on a copy of a slice from a DataFrame\n",
      "\n",
      "See the caveats in the documentation: https://pandas.pydata.org/pandas-docs/stable/user_guide/indexing.html#returning-a-view-versus-a-copy\n",
      "  df['lat'][ind] = float(i[3])\n"
     ]
    },
    {
     "name": "stdout",
     "output_type": "stream",
     "text": [
      "[1 '澳门PADRE Modern Cuisine 餐廳' 113.5494636369974 22.192919580748228]\n",
      "澳门新馬路噴水池\n",
      "[2 '澳门新馬路噴水池' 113.5494636369974 22.192919580748228]\n",
      "澳门賈伯樂提督街麥當勞餐廳\n",
      "[3 '澳门賈伯樂提督街麥當勞餐廳' 113.5494636369974 22.192919580748228]\n",
      "澳门鏡湖醫院\n",
      "[4 '澳门鏡湖醫院' 113.5494636369974 22.192919580748228]\n",
      "澳门仁伯爵綜合醫院\n",
      "[5 '澳门仁伯爵綜合醫院' 113.5494636369974 22.192919580748228]\n"
     ]
    }
   ],
   "source": [
    "for i in df.values:\n",
    "    ind = i[0]\n",
    "    b = i[1]\n",
    "    print(b)\n",
    "    data = getlocation(b)\n",
    "    i[2] = data['result']['location']['lng'] #获取经度\n",
    "    i[3] = data['result']['location']['lat'] #获取纬度\n",
    "    df['lng'][ind] = float(i[2])\n",
    "    df['lat'][ind] = float(i[3])\n",
    "    print(i)\n",
    "\n",
    "df\n",
    "df.to_excel(outpath)"
   ]
  },
  {
   "cell_type": "code",
   "execution_count": 8,
   "id": "9ac67bd4",
   "metadata": {},
   "outputs": [
    {
     "data": {
      "text/plain": [
       "{'status': 0,\n",
       " 'result': {'location': {'lng': 116.46678373765539, 'lat': 39.91602480085315},\n",
       "  'precise': 0,\n",
       "  'confidence': 75,\n",
       "  'comprehension': 0,\n",
       "  'level': '购物'}}"
      ]
     },
     "execution_count": 8,
     "metadata": {},
     "output_type": "execute_result"
    }
   ],
   "source": [
    "data = getlocation('澳门')\n",
    "data"
   ]
  }
 ],
 "metadata": {
  "interpreter": {
   "hash": "c25030d382b418294212f498e933994f857e7fa8ba41aaeae613af6bb9b78a98"
  },
  "kernelspec": {
   "display_name": "Python 3.8.13 ('geospatial')",
   "language": "python",
   "name": "python3"
  },
  "language_info": {
   "codemirror_mode": {
    "name": "ipython",
    "version": 3
   },
   "file_extension": ".py",
   "mimetype": "text/x-python",
   "name": "python",
   "nbconvert_exporter": "python",
   "pygments_lexer": "ipython3",
   "version": "3.8.13"
  }
 },
 "nbformat": 4,
 "nbformat_minor": 5
}
