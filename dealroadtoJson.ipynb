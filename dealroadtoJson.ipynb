{
 "cells": [
  {
   "cell_type": "code",
   "execution_count": 6,
   "metadata": {},
   "outputs": [],
   "source": [
    "import json\n",
    "import numpy as np\n",
    "import pandas as pd"
   ]
  },
  {
   "cell_type": "code",
   "execution_count": 7,
   "metadata": {},
   "outputs": [],
   "source": [
    "# f=open(\"road500.csv\",\"r\",encoding='utf-8') #\n",
    "# ls=[]\n",
    "# for line in f:\n",
    "#         line = line.replace(\"\\n\", \"\")\n",
    "#         ls.append(line.split(\",\"))\n",
    "\n",
    "\n",
    "\n",
    "# f.close()\n",
    "# fw=open(\"a.json\",\"w\",encoding='utf-8')\n",
    "# for i in range(1,len(ls)):\n",
    "#     ls[i]=dict(zip(ls[0],ls[i]))\n",
    "\n",
    "\n",
    "# a = json.dumps(ls[1:],sort_keys=True,indent=4,ensure_ascii=False)\n",
    "\n",
    "# ls[i]['id'] \n",
    "\n"
   ]
  },
  {
   "cell_type": "code",
   "execution_count": 45,
   "metadata": {},
   "outputs": [],
   "source": [
    "df = pd.read_csv('road500.csv')\n",
    "n = df.loc[:, 'lng':'lat'].to_numpy()\n",
    "id = df.groupby(['id'])\n",
    "\n",
    "for i in range(0,len(id)):\n",
    "    name = list(id)[i][0]\n",
    "    df1 = id.get_group(name).head()\n",
    "    df1['id'].values[0]\n",
    "    n1 = df1.loc[:, 'lng':'lat'].to_numpy()\n",
    "    p = {\n",
    "        'id':df1['id'].values[0],\n",
    "        'path':n1.tolist()\n",
    "    }\n",
    "    json.dumps(p)\n",
    "\n",
    "    with open(\"a.json\", 'a', encoding='utf-8') as fw:\n",
    "        str = json.dumps(p,indent=4, ensure_ascii=False)\n",
    "        fw.write(str)\n",
    "        fw.write(',')\n",
    "        fw.write('\\n')\n",
    "\n",
    "\n",
    "    "
   ]
  }
 ],
 "metadata": {
  "kernelspec": {
   "display_name": "Python 3.8.13 ('geospatial')",
   "language": "python",
   "name": "python3"
  },
  "language_info": {
   "codemirror_mode": {
    "name": "ipython",
    "version": 3
   },
   "file_extension": ".py",
   "mimetype": "text/x-python",
   "name": "python",
   "nbconvert_exporter": "python",
   "pygments_lexer": "ipython3",
   "version": "3.8.13"
  },
  "orig_nbformat": 4,
  "vscode": {
   "interpreter": {
    "hash": "c25030d382b418294212f498e933994f857e7fa8ba41aaeae613af6bb9b78a98"
   }
  }
 },
 "nbformat": 4,
 "nbformat_minor": 2
}
